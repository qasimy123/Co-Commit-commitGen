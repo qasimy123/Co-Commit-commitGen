{
 "cells": [
  {
   "cell_type": "code",
   "execution_count": null,
   "metadata": {},
   "outputs": [],
   "source": [
    "import openai\n",
    "import random\n",
    "import os\n",
    "import json\n",
    "import git\n",
    "\n",
    "repo = git.Repo(\".\")\n",
    "\n",
    "# Get staged changes\n",
    "staged = repo.head.commit.diff(None, create_patch=True)\n",
    "\n",
    "prompt = \"\"\n",
    "for i, code_row in enumerate(staged):\n",
    "    prompt += f\" file path A: {code_row.a_path} | file path B: {code_row.b_path}\\n\\n\"\n",
    "    prompt += code_row.diff.decode(\"utf-8\")\n",
    "    prompt += \"\\n---\\n\" if i < len(code_row.diff) - 1 else \"\"\n",
    "prompt += \"\\n\\n###\\n\\n\"\n",
    "\n",
    "\n",
    "openai.api_key = os.getenv(\"OPENAI_API_KEY\")\n",
    "response = openai.Completion.create(\n",
    "    model=\"curie:ft-personal:commit-2023-01-07-01-35-45\",\n",
    "    prompt=prompt,\n",
    "    temperature=0.7,\n",
    "    max_tokens=256,\n",
    "    top_p=1,\n",
    "    frequency_penalty=0,\n",
    "    presence_penalty=0,\n",
    "    stop=[\"\\n\"]\n",
    ")\n",
    "print(response[\"choices\"][0][\"text\"])\n"
   ]
  }
 ],
 "metadata": {
  "kernelspec": {
   "display_name": "Python 3.10.8 64-bit",
   "language": "python",
   "name": "python3"
  },
  "language_info": {
   "name": "python",
   "version": "3.10.8"
  },
  "orig_nbformat": 4,
  "vscode": {
   "interpreter": {
    "hash": "b0fa6594d8f4cbf19f97940f81e996739fb7646882a419484c72d19e05852a7e"
   }
  }
 },
 "nbformat": 4,
 "nbformat_minor": 2
}
